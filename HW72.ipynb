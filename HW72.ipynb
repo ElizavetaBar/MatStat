{
 "cells": [
  {
   "cell_type": "markdown",
   "metadata": {},
   "source": [
    "Даны значения величины заработной платы заемщиков банка (zp) и значения их поведенческого кредитного скоринга (ks): zp = [35, 45, 190, 200, 40, 70, 54, 150, 120, 110], ks = [401, 574, 874, 919, 459, 739, 653, 902, 746, 832]. Используя математические операции, посчитать коэффициенты линейной регрессии, приняв за X заработную плату (то есть, zp - признак), а за y - значения скорингового балла (то есть, ks - целевая переменная). Произвести расчет как с использованием intercept, так и без."
   ]
  },
  {
   "cell_type": "code",
   "execution_count": 13,
   "metadata": {},
   "outputs": [],
   "source": [
    "import numpy as np\n",
    "import matplotlib.pyplot as plt"
   ]
  },
  {
   "cell_type": "code",
   "execution_count": 33,
   "metadata": {},
   "outputs": [
    {
     "data": {
      "text/plain": [
       "array([ 35,  40,  45,  54,  70, 110, 120, 150, 190, 200])"
      ]
     },
     "execution_count": 33,
     "metadata": {},
     "output_type": "execute_result"
    }
   ],
   "source": [
    "x = np.array([35, 45, 190, 200, 40, 70, 54, 150, 120, 110])\n",
    "x.sort()\n",
    "x"
   ]
  },
  {
   "cell_type": "code",
   "execution_count": 34,
   "metadata": {},
   "outputs": [
    {
     "data": {
      "text/plain": [
       "array([401, 459, 574, 653, 739, 746, 832, 874, 902, 919])"
      ]
     },
     "execution_count": 34,
     "metadata": {},
     "output_type": "execute_result"
    }
   ],
   "source": [
    "y = np.array([401, 574, 874, 919, 459, 739, 653, 902, 746, 832])\n",
    "y.sort()\n",
    "y"
   ]
  },
  {
   "cell_type": "code",
   "execution_count": 35,
   "metadata": {},
   "outputs": [],
   "source": [
    "n = 10"
   ]
  },
  {
   "cell_type": "code",
   "execution_count": 36,
   "metadata": {},
   "outputs": [
    {
     "data": {
      "text/plain": [
       "0.6801121230096421"
      ]
     },
     "execution_count": 36,
     "metadata": {},
     "output_type": "execute_result"
    }
   ],
   "source": [
    "b = (n*(np.sum(x*y)) - (np.sum(x)*np.sum(y)))/(n*(np.sum(x**2))-((np.sum(x)*2)))\n",
    "b"
   ]
  },
  {
   "cell_type": "code",
   "execution_count": 37,
   "metadata": {},
   "outputs": [
    {
     "data": {
      "text/plain": [
       "640.9366307268223"
      ]
     },
     "execution_count": 37,
     "metadata": {},
     "output_type": "execute_result"
    }
   ],
   "source": [
    "a = np.mean(y) - b * np.mean(x)\n",
    "a"
   ]
  },
  {
   "cell_type": "code",
   "execution_count": 41,
   "metadata": {},
   "outputs": [
    {
     "data": {
      "text/plain": [
       "array([664.74, 668.14, 671.54, 677.66, 688.54, 715.74, 722.54, 742.94,\n",
       "       770.14, 776.94])"
      ]
     },
     "execution_count": 41,
     "metadata": {},
     "output_type": "execute_result"
    }
   ],
   "source": [
    "y_hat = 640.94 + 0.68*x\n",
    "y_hat"
   ]
  },
  {
   "cell_type": "code",
   "execution_count": 42,
   "metadata": {},
   "outputs": [
    {
     "data": {
      "text/plain": [
       "array([401, 459, 574, 653, 739, 746, 832, 874, 902, 919])"
      ]
     },
     "execution_count": 42,
     "metadata": {},
     "output_type": "execute_result"
    }
   ],
   "source": [
    "y"
   ]
  },
  {
   "cell_type": "code",
   "execution_count": 45,
   "metadata": {
    "scrolled": true
   },
   "outputs": [
    {
     "data": {
      "image/png": "[encoded data removed]",
      "text/plain": [
       "<Figure size 432x288 with 1 Axes>"
      ]
     },
     "metadata": {
      "needs_background": "light"
     },
     "output_type": "display_data"
    }
   ],
   "source": [
    "%matplotlib inline\n",
    "plt.scatter(x, y)\n",
    "plt.plot(x, 640.94 + 0.68*x)\n",
    "plt.show()"
   ]
  },
  {
   "cell_type": "code",
   "execution_count": 46,
   "metadata": {},
   "outputs": [
    {
     "data": {
      "text/plain": [
       "19360.8692"
      ]
     },
     "execution_count": 46,
     "metadata": {},
     "output_type": "execute_result"
    }
   ],
   "source": [
    "mse = ((y-y_hat)**2).sum()/n\n",
    "mse"
   ]
  },
  {
   "cell_type": "markdown",
   "metadata": {},
   "source": [
    "### матричный"
   ]
  },
  {
   "cell_type": "code",
   "execution_count": 47,
   "metadata": {},
   "outputs": [],
   "source": [
    "import seaborn as sns"
   ]
  },
  {
   "cell_type": "code",
   "execution_count": 48,
   "metadata": {},
   "outputs": [
    {
     "data": {
      "text/plain": [
       "array([[ 35],\n",
       "       [ 40],\n",
       "       [ 45],\n",
       "       [ 54],\n",
       "       [ 70],\n",
       "       [110],\n",
       "       [120],\n",
       "       [150],\n",
       "       [190],\n",
       "       [200]])"
      ]
     },
     "execution_count": 48,
     "metadata": {},
     "output_type": "execute_result"
    }
   ],
   "source": [
    "x1 = x.reshape((10, 1))\n",
    "x1"
   ]
  },
  {
   "cell_type": "code",
   "execution_count": 49,
   "metadata": {},
   "outputs": [
    {
     "data": {
      "text/plain": [
       "array([[401],\n",
       "       [459],\n",
       "       [574],\n",
       "       [653],\n",
       "       [739],\n",
       "       [746],\n",
       "       [832],\n",
       "       [874],\n",
       "       [902],\n",
       "       [919]])"
      ]
     },
     "execution_count": 49,
     "metadata": {},
     "output_type": "execute_result"
    }
   ],
   "source": [
    "y1 = y.reshape((10, 1))\n",
    "y1"
   ]
  },
  {
   "cell_type": "code",
   "execution_count": 50,
   "metadata": {},
   "outputs": [
    {
     "data": {
      "text/plain": [
       "array([[  1.,  35.],\n",
       "       [  1.,  40.],\n",
       "       [  1.,  45.],\n",
       "       [  1.,  54.],\n",
       "       [  1.,  70.],\n",
       "       [  1., 110.],\n",
       "       [  1., 120.],\n",
       "       [  1., 150.],\n",
       "       [  1., 190.],\n",
       "       [  1., 200.]])"
      ]
     },
     "execution_count": 50,
     "metadata": {},
     "output_type": "execute_result"
    }
   ],
   "source": [
    "x1 = np.hstack([np.ones((10, 1)), x1])\n",
    "x1"
   ]
  },
  {
   "cell_type": "code",
   "execution_count": 53,
   "metadata": {},
   "outputs": [
    {
     "data": {
      "text/plain": [
       "array([[438.43221619],\n",
       "       [  2.67719708]])"
      ]
     },
     "execution_count": 53,
     "metadata": {},
     "output_type": "execute_result"
    }
   ],
   "source": [
    "b1 = np.dot(np.linalg.inv(np.dot(x1.T, x1)), x1.T@y1)\n",
    "b1"
   ]
  },
  {
   "cell_type": "code",
   "execution_count": 56,
   "metadata": {},
   "outputs": [
    {
     "data": {
      "image/png": "[encoded data removed]",
      "text/plain": [
       "<Figure size 432x288 with 1 Axes>"
      ]
     },
     "metadata": {
      "needs_background": "light"
     },
     "output_type": "display_data"
    }
   ],
   "source": [
    "%matplotlib inline\n",
    "plt.scatter(x, y)\n",
    "plt.plot(x1, 438.43 + 2.68*x1)\n",
    "plt.show()"
   ]
  },
  {
   "cell_type": "markdown",
   "metadata": {},
   "source": [
    "### 2.Посчитать коэффициент линейной регрессии при заработной плате (zp), используя градиентный спуск (без intercept). "
   ]
  },
  {
   "cell_type": "code",
   "execution_count": 74,
   "metadata": {},
   "outputs": [],
   "source": [
    "def mse_(B1, y=y, x=x, n=10):\n",
    "    return np.sum((B1*x-y)**2)/n"
   ]
  },
  {
   "cell_type": "code",
   "execution_count": 75,
   "metadata": {},
   "outputs": [],
   "source": [
    "alpha = 1e-6"
   ]
  },
  {
   "cell_type": "code",
   "execution_count": 76,
   "metadata": {},
   "outputs": [],
   "source": [
    "B1= 0.1"
   ]
  },
  {
   "cell_type": "code",
   "execution_count": 77,
   "metadata": {},
   "outputs": [],
   "source": [
    "n = 10"
   ]
  },
  {
   "cell_type": "code",
   "execution_count": 78,
   "metadata": {},
   "outputs": [
    {
     "name": "stdout",
     "output_type": "stream",
     "text": [
      "Iter: 0, B1 = 0.25992408, mse = 493073.36098132876\n",
      "Iter: 10, B1 = 1.6357820792995132, mse = 305182.045037559\n",
      "Iter: 20, B1 = 2.6762582267245882, mse = 197727.75997826335\n",
      "Iter: 30, B1 = 3.4631058620995345, mse = 136275.08815249425\n",
      "Iter: 40, B1 = 4.058149970344916, mse = 101130.55322360103\n",
      "Iter: 50, B1 = 4.50814495646293, mse = 81031.53557844367\n",
      "Iter: 60, B1 = 4.848448279738332, mse = 69536.98852816437\n",
      "Iter: 70, B1 = 5.105798595641437, mse = 62963.30347431203\n",
      "Iter: 80, B1 = 5.300416692396926, mse = 59203.83953038995\n",
      "Iter: 90, B1 = 5.447594299122657, mse = 57053.81727805101\n"
     ]
    }
   ],
   "source": [
    "for i in range (100):\n",
    "    B1 -= alpha*(2/n)*np.sum((B1*x-y)*x)\n",
    "    if i%10 == 0:\n",
    "        print('Iter: {i}, B1 = {B1}, mse = {mse}'.format(i=i, B1= B1, mse=mse_(B1)))"
   ]
  },
  {
   "cell_type": "code",
   "execution_count": 79,
   "metadata": {},
   "outputs": [
    {
     "name": "stdout",
     "output_type": "stream",
     "text": [
      "Iter: 0, B1 = 5.5588956029717425, mse = 55824.22823171214\n",
      "Iter: 1000, B1 = 5.904192616465349, mse = 54181.64383447295\n",
      "Iter: 2000, B1 = 5.904192616465585, mse = 54181.64383447295\n",
      "Iter: 3000, B1 = 5.904192616465585, mse = 54181.64383447295\n",
      "Iter: 4000, B1 = 5.904192616465585, mse = 54181.64383447295\n",
      "Iter: 5000, B1 = 5.904192616465585, mse = 54181.64383447295\n",
      "Iter: 6000, B1 = 5.904192616465585, mse = 54181.64383447295\n",
      "Iter: 7000, B1 = 5.904192616465585, mse = 54181.64383447295\n",
      "Iter: 8000, B1 = 5.904192616465585, mse = 54181.64383447295\n",
      "Iter: 9000, B1 = 5.904192616465585, mse = 54181.64383447295\n"
     ]
    }
   ],
   "source": [
    "for i in range (10000):\n",
    "    B1 -= alpha*(2/n)*np.sum((B1*x-y)*x)\n",
    "    if i%1000 == 0:\n",
    "        print('Iter: {i}, B1 = {B1}, mse = {mse}'.format(i=i, B1= B1, mse=mse_(B1)))"
   ]
  },
  {
   "cell_type": "code",
   "execution_count": 81,
   "metadata": {},
   "outputs": [
    {
     "name": "stdout",
     "output_type": "stream",
     "text": [
      "Iter: 0, B1 = 5.904192616465585, mse = 54181.64383447295\n",
      "Iter: 1000, B1 = 5.904192616465585, mse = 54181.64383447295\n",
      "Iter: 2000, B1 = 5.904192616465585, mse = 54181.64383447295\n",
      "Iter: 3000, B1 = 5.904192616465585, mse = 54181.64383447295\n",
      "Iter: 4000, B1 = 5.904192616465585, mse = 54181.64383447295\n"
     ]
    }
   ],
   "source": [
    "for i in range (5000):\n",
    "    B1 -= alpha*(2/n)*np.sum((B1*x-y)*x)\n",
    "    if i%1000 == 0:\n",
    "        print('Iter: {i}, B1 = {B1}, mse = {mse}'.format(i=i, B1= B1, mse=mse_(B1)))"
   ]
  },
  {
   "cell_type": "code",
   "execution_count": 84,
   "metadata": {},
   "outputs": [
    {
     "data": {
      "text/plain": [
       "54181.64383447295"
      ]
     },
     "execution_count": 84,
     "metadata": {},
     "output_type": "execute_result"
    }
   ],
   "source": [
    "mse_(5.90419261)"
   ]
  },
  {
   "cell_type": "markdown",
   "metadata": {},
   "source": [
    "с интерсептом"
   ]
  },
  {
   "cell_type": "code",
   "execution_count": 96,
   "metadata": {},
   "outputs": [],
   "source": [
    "def  cal_ks(a3,x,y):\n",
    "    n = 10\n",
    "    \n",
    "    predictions = x.dot(a)\n",
    "    a = (1/2*m) * np.sum(np.square(predictions-y))\n",
    "    return cost"
   ]
  },
  {
   "cell_type": "code",
   "execution_count": 97,
   "metadata": {},
   "outputs": [],
   "source": [
    "def gradient_descent(x,y,a3,learning_rate=0.01,iterations=100):\n",
    "    m = 10\n",
    "    cost_history = np.zeros(iterations)\n",
    "    theta_history = np.zeros((iterations,2))\n",
    "    for it in range(iterations):\n",
    "        \n",
    "        prediction = np.dot(x,a3)\n",
    "        \n",
    "        a3 = a3 -(1/m)*learning_rate*( x.T.dot((prediction - y)))\n",
    "        a_history[it,:] =a3.T\n",
    "        ks_history[it]  = cal_ks(a3,x,y)\n",
    "        \n",
    "    return a3, ks_history,  a_history"
   ]
  },
  {
   "cell_type": "code",
   "execution_count": 98,
   "metadata": {},
   "outputs": [
    {
     "ename": "NameError",
     "evalue": "name 'a_history' is not defined",
     "output_type": "error",
     "traceback": [
      "\u001b[1;31m---------------------------------------------------------------------------\u001b[0m",
      "\u001b[1;31mNameError\u001b[0m                                 Traceback (most recent call last)",
      "\u001b[1;32m<ipython-input-98-882bbc8fb2e0>\u001b[0m in \u001b[0;36m<module>\u001b[1;34m\u001b[0m\n\u001b[0;32m      5\u001b[0m \u001b[1;33m\u001b[0m\u001b[0m\n\u001b[0;32m      6\u001b[0m \u001b[0mx_b\u001b[0m \u001b[1;33m=\u001b[0m \u001b[0mnp\u001b[0m\u001b[1;33m.\u001b[0m\u001b[0mc_\u001b[0m\u001b[1;33m[\u001b[0m\u001b[0mnp\u001b[0m\u001b[1;33m.\u001b[0m\u001b[0mones\u001b[0m\u001b[1;33m(\u001b[0m\u001b[1;33m(\u001b[0m\u001b[0mlen\u001b[0m\u001b[1;33m(\u001b[0m\u001b[0mx\u001b[0m\u001b[1;33m)\u001b[0m\u001b[1;33m,\u001b[0m\u001b[1;36m1\u001b[0m\u001b[1;33m)\u001b[0m\u001b[1;33m)\u001b[0m\u001b[1;33m,\u001b[0m\u001b[0mx\u001b[0m\u001b[1;33m]\u001b[0m\u001b[1;33m\u001b[0m\u001b[1;33m\u001b[0m\u001b[0m\n\u001b[1;32m----> 7\u001b[1;33m \u001b[0ma3\u001b[0m\u001b[1;33m,\u001b[0m \u001b[0mks_history\u001b[0m\u001b[1;33m,\u001b[0m \u001b[0ma_history\u001b[0m \u001b[1;33m=\u001b[0m \u001b[0mgradient_descent\u001b[0m\u001b[1;33m(\u001b[0m\u001b[0mx_b\u001b[0m\u001b[1;33m,\u001b[0m\u001b[0my\u001b[0m\u001b[1;33m,\u001b[0m\u001b[0ma3\u001b[0m\u001b[1;33m,\u001b[0m\u001b[0mlr\u001b[0m\u001b[1;33m,\u001b[0m\u001b[0mn_iter\u001b[0m\u001b[1;33m)\u001b[0m\u001b[1;33m\u001b[0m\u001b[1;33m\u001b[0m\u001b[0m\n\u001b[0m\u001b[0;32m      8\u001b[0m \u001b[1;33m\u001b[0m\u001b[0m\n\u001b[0;32m      9\u001b[0m \u001b[1;33m\u001b[0m\u001b[0m\n",
      "\u001b[1;32m<ipython-input-97-a7573dc6fabc>\u001b[0m in \u001b[0;36mgradient_descent\u001b[1;34m(x, y, a3, learning_rate, iterations)\u001b[0m\n\u001b[0;32m      8\u001b[0m \u001b[1;33m\u001b[0m\u001b[0m\n\u001b[0;32m      9\u001b[0m         \u001b[0ma3\u001b[0m \u001b[1;33m=\u001b[0m \u001b[0ma3\u001b[0m \u001b[1;33m-\u001b[0m\u001b[1;33m(\u001b[0m\u001b[1;36m1\u001b[0m\u001b[1;33m/\u001b[0m\u001b[0mm\u001b[0m\u001b[1;33m)\u001b[0m\u001b[1;33m*\u001b[0m\u001b[0mlearning_rate\u001b[0m\u001b[1;33m*\u001b[0m\u001b[1;33m(\u001b[0m \u001b[0mx\u001b[0m\u001b[1;33m.\u001b[0m\u001b[0mT\u001b[0m\u001b[1;33m.\u001b[0m\u001b[0mdot\u001b[0m\u001b[1;33m(\u001b[0m\u001b[1;33m(\u001b[0m\u001b[0mprediction\u001b[0m \u001b[1;33m-\u001b[0m \u001b[0my\u001b[0m\u001b[1;33m)\u001b[0m\u001b[1;33m)\u001b[0m\u001b[1;33m)\u001b[0m\u001b[1;33m\u001b[0m\u001b[1;33m\u001b[0m\u001b[0m\n\u001b[1;32m---> 10\u001b[1;33m         \u001b[0ma_history\u001b[0m\u001b[1;33m[\u001b[0m\u001b[0mit\u001b[0m\u001b[1;33m,\u001b[0m\u001b[1;33m:\u001b[0m\u001b[1;33m]\u001b[0m \u001b[1;33m=\u001b[0m\u001b[0ma3\u001b[0m\u001b[1;33m.\u001b[0m\u001b[0mT\u001b[0m\u001b[1;33m\u001b[0m\u001b[1;33m\u001b[0m\u001b[0m\n\u001b[0m\u001b[0;32m     11\u001b[0m         \u001b[0mks_history\u001b[0m\u001b[1;33m[\u001b[0m\u001b[0mit\u001b[0m\u001b[1;33m]\u001b[0m  \u001b[1;33m=\u001b[0m \u001b[0mcal_ks\u001b[0m\u001b[1;33m(\u001b[0m\u001b[0ma3\u001b[0m\u001b[1;33m,\u001b[0m\u001b[0mx\u001b[0m\u001b[1;33m,\u001b[0m\u001b[0my\u001b[0m\u001b[1;33m)\u001b[0m\u001b[1;33m\u001b[0m\u001b[1;33m\u001b[0m\u001b[0m\n\u001b[0;32m     12\u001b[0m \u001b[1;33m\u001b[0m\u001b[0m\n",
      "\u001b[1;31mNameError\u001b[0m: name 'a_history' is not defined"
     ]
    }
   ],
   "source": [
    "lr =0.01\n",
    "n_iter = 1000\n",
    "\n",
    "a3 = np.random.randn(2,1)\n",
    "\n",
    "x_b = np.c_[np.ones((len(x),1)),x]\n",
    "a3, ks_history, a_history = gradient_descent(x_b,y,a3,lr,n_iter)\n",
    "\n",
    "\n",
    "print('Theta0:          {:0.3f},\\nTheta1:          {:0.3f}'.format(a3[0][0],a3[1][0]))\n",
    "print('Final cost/MSE:  {:0.3f}'.format(ks_history[-1]))"
   ]
  },
  {
   "cell_type": "code",
   "execution_count": null,
   "metadata": {},
   "outputs": [],
   "source": []
  }
 ],
 "metadata": {
  "kernelspec": {
   "display_name": "Python 3",
   "language": "python",
   "name": "python3"
  },
  "language_info": {
   "codemirror_mode": {
    "name": "ipython",
    "version": 3
   },
   "file_extension": ".py",
   "mimetype": "text/x-python",
   "name": "python",
   "nbconvert_exporter": "python",
   "pygments_lexer": "ipython3",
   "version": "3.8.5"
  }
 },
 "nbformat": 4,
 "nbformat_minor": 4
}
